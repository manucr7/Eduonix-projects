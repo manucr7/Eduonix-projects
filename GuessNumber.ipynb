{
 "cells": [
  {
   "cell_type": "code",
   "execution_count": null,
   "metadata": {},
   "outputs": [
    {
     "name": "stdout",
     "output_type": "stream",
     "text": [
      "Enter how many games you want to play\n",
      "12\n",
      "guess the number\n",
      "12\n",
      "you've entered big number\n",
      "13\n",
      "you've entered big number\n",
      "7\n",
      "you've entered small number\n",
      "9\n",
      "you've entered small number\n",
      "11\n",
      "you've entered big number\n",
      "10\n",
      "you've taken 6 tries to guess the number\n",
      "guess the number\n"
     ]
    }
   ],
   "source": [
    "import random\n",
    "print(\"Enter how many games you want to play\")\n",
    "j=int(input())\n",
    "    \n",
    "for i in range(j):\n",
    "    k=random.randint(1,25)\n",
    "#     print(k)\n",
    "    count=1\n",
    "    print(\"guess the number\")\n",
    "    l=int(input())\n",
    "    if (l==k):\n",
    "        print(\"you've taken {} tries to guess the number\".format(count))\n",
    "    if(l > k):\n",
    "        print(\"you've entered big number\")\n",
    "    if(l < k):\n",
    "        print(\"you've entered small number\")\n",
    "    while(l != k):\n",
    "        count +=1\n",
    "        l=int(input())\n",
    "        if(l == k):\n",
    "            print(\"you've taken {} tries to guess the number\".format(count))\n",
    "        elif(l>k):\n",
    "            print(\"you've entered big number\")\n",
    "        else:\n",
    "            print(\"you've entered small number\")\n",
    "\n",
    "            "
   ]
  }
 ],
 "metadata": {
  "kernelspec": {
   "display_name": "Python 3",
   "language": "python",
   "name": "python3"
  }
 },
 "nbformat": 4,
 "nbformat_minor": 2
}
